{
 "cells": [
  {
   "cell_type": "code",
   "execution_count": null,
   "metadata": {},
   "outputs": [],
   "source": [
    "# import libraries here; add more as necessary\n",
    "import numpy as np\n",
    "import pandas as pd\n",
    "import matplotlib.pyplot as plt\n",
    "import seaborn as sns\n",
    "pd.options.display.max_rows = 4000\n",
    "pd.options.display.max_columns = 4000\n",
    "from collections import Counter\n",
    "\n",
    "# magic word for producing visualizations in notebook\n",
    "%matplotlib inline"
   ]
  },
  {
   "cell_type": "code",
   "execution_count": null,
   "metadata": {},
   "outputs": [],
   "source": [
    "# Load in the general 2018 dataset.\n",
    "survey_2018 = pd.read_csv(\"survey_results_public_2018.csv\", dtype=str)"
   ]
  },
  {
   "cell_type": "code",
   "execution_count": null,
   "metadata": {},
   "outputs": [],
   "source": [
    "print(survey_2018.head())"
   ]
  },
  {
   "cell_type": "code",
   "execution_count": null,
   "metadata": {},
   "outputs": [],
   "source": [
    "print(survey_2018.shape)\n",
    "survey_2018.describe()"
   ]
  },
  {
   "cell_type": "code",
   "execution_count": null,
   "metadata": {},
   "outputs": [],
   "source": [
    "# Perform an assessment of how much missing data there is in each column of the\n",
    "# dataset.\n",
    "def count_outliers(dataset):\n",
    "    # output percentage of values that are missing\n",
    "    print(100 * dataset.isnull().sum() / dataset.shape[0])"
   ]
  },
  {
   "cell_type": "code",
   "execution_count": null,
   "metadata": {},
   "outputs": [],
   "source": [
    "count_outliers(survey_2018)"
   ]
  },
  {
   "cell_type": "markdown",
   "metadata": {},
   "source": [
    "For the purposes of this analysis, I will not be removing columns / rows initially or imputing any missing data values. I may however, remove certain rows / columns as I progress through the questions.\n"
   ]
  },
  {
   "cell_type": "markdown",
   "metadata": {},
   "source": [
    "# Question 1: What types of languages, databases, platforms and frameworks were used in 2018 and what will be the trend for 2019?¶\n",
    "\n",
    "Let us take a look at what the survey said about the technologies used in 2018 and what technologies people are looking at utilizing in 2019. We will be analyzing the following columns:\n",
    "\n",
    "- LanguageWorkedWith\n",
    "- LanguageDesireNextYear\n",
    "- DatabaseWorkedWith\n",
    "- DatabaseDesireNextYear\n",
    "- PlatformWorkedWith\n",
    "- PlatformDesireNextYear\n",
    "- FrameworkWorkedWith\n",
    "- FrameworkDesireNextYear"
   ]
  },
  {
   "cell_type": "code",
   "execution_count": null,
   "metadata": {},
   "outputs": [],
   "source": [
    "#Making a temp variable of the 8 columns above     \n",
    "temp_dataframe = survey_2018[['LanguageWorkedWith','LanguageDesireNextYear','DatabaseWorkedWith','DatabaseDesireNextYear','PlatformWorkedWith','PlatformDesireNextYear','FrameworkWorkedWith','FrameworkDesireNextYear']]"
   ]
  },
  {
   "cell_type": "code",
   "execution_count": null,
   "metadata": {},
   "outputs": [],
   "source": [
    "#Printing out the first 5 rows of each column\n",
    "print(temp_dataframe.shape)\n",
    "print(temp_dataframe.head())"
   ]
  },
  {
   "cell_type": "code",
   "execution_count": null,
   "metadata": {},
   "outputs": [],
   "source": [
    "temp_dataframe['LanguageWorkedWith'].unique()"
   ]
  },
  {
   "cell_type": "markdown",
   "metadata": {},
   "source": [
    "As we can see, many of the rows have multiple values. We are going to be splitting up the cells so that we can account for each occurance of the technologies listed."
   ]
  },
  {
   "cell_type": "code",
   "execution_count": null,
   "metadata": {},
   "outputs": [],
   "source": [
    "temp_dataframe.dropna(subset=['LanguageWorkedWith','LanguageDesireNextYear','DatabaseWorkedWith','DatabaseDesireNextYear','PlatformWorkedWith','PlatformDesireNextYear','FrameworkWorkedWith','FrameworkDesireNextYear'], inplace = True)"
   ]
  },
  {
   "cell_type": "code",
   "execution_count": null,
   "metadata": {},
   "outputs": [],
   "source": [
    "temp_dataframe.head()"
   ]
  },
  {
   "cell_type": "code",
   "execution_count": null,
   "metadata": {},
   "outputs": [],
   "source": [
    "def clean_and_plot(df, title, plot=True):\n",
    "    '''\n",
    "    INPUT \n",
    "        df - a dataframe holding the CousinEducation column\n",
    "        title - string the title of your plot\n",
    "        axis - axis object\n",
    "        plot - bool providing whether or not you want a plot back\n",
    "        \n",
    "    OUTPUT\n",
    "        study_df - a dataframe with the count of how many individuals\n",
    "        Displays a plot of pretty things related to the CousinEducation column.\n",
    "    '''\n",
    "    temp_df = df.str.split(';')\n",
    "    flat_list = [item for sublist in df for item in sublist]\n",
    "    plot_list = Counter(flat_list)\n",
    "    plt.figure(figsize=(20,6))\n",
    "    plt.title(title)\n",
    "    plt.bar(range(len(plot_list)), plot_list.values(), align=\"center\")\n",
    "    plt.xticks(range(len(plot_list)), list(plot_list.keys()))\n",
    "    plt.xlabel('Technologies')\n",
    "    plt.ylabel('Count')\n",
    "    plt.show()"
   ]
  },
  {
   "cell_type": "code",
   "execution_count": null,
   "metadata": {},
   "outputs": [],
   "source": [
    "clean_and_plot(temp_dataframe['LanguageWorkedWith'], '2018 Languages')"
   ]
  },
  {
   "cell_type": "code",
   "execution_count": null,
   "metadata": {},
   "outputs": [],
   "source": [
    "clean_and_plot(temp_dataframe['LanguageDesireNextYear'], '2019 Languages')"
   ]
  },
  {
   "cell_type": "code",
   "execution_count": null,
   "metadata": {},
   "outputs": [],
   "source": [
    "clean_and_plot(temp_dataframe['DatabaseWorkedWith'], '2018 Databases')"
   ]
  },
  {
   "cell_type": "code",
   "execution_count": null,
   "metadata": {},
   "outputs": [],
   "source": [
    "props_df = clean_and_plot(temp_dataframe['DatabaseDesireNextYear'], '2019 Database')"
   ]
  },
  {
   "cell_type": "code",
   "execution_count": null,
   "metadata": {},
   "outputs": [],
   "source": [
    "props_df = clean_and_plot(temp_dataframe['PlatformWorkedWith'], '2018 Platforms')"
   ]
  },
  {
   "cell_type": "code",
   "execution_count": null,
   "metadata": {},
   "outputs": [],
   "source": [
    "props_df = clean_and_plot(temp_dataframe['PlatformDesireNextYear'], '2019 Platforms')"
   ]
  },
  {
   "cell_type": "code",
   "execution_count": null,
   "metadata": {},
   "outputs": [],
   "source": [
    "props_df = clean_and_plot(temp_dataframe['FrameworkWorkedWith'], '2018 Frameworks')"
   ]
  },
  {
   "cell_type": "code",
   "execution_count": null,
   "metadata": {},
   "outputs": [],
   "source": [
    "props_df = clean_and_plot(temp_dataframe['FrameworkDesireNextYear'], '2019 Frameworks')"
   ]
  },
  {
   "cell_type": "markdown",
   "metadata": {},
   "source": [
    "# Question 2: What do people tend to look for more in a potential job?\n",
    "\n",
    "Let us take a look at what people tend to look for in a potential job. We will be utilizing the following columns and their associated descriptions to answer this question (1 is the most important and 10 is the least important):\n",
    "\n",
    "- AssessJob1: The industry that I'd be working in\n",
    "- AssessJob2: The financial performance or funding status of the company or organization\n",
    "- AssessJob3: The specific department or team I'd be working on\n",
    "- AssessJob4: The languages, frameworks, and other technologies I'd be working with\n",
    "- AssessJob5: The compensation and benefits offered\n",
    "- AssessJob6: The office environment or company culture\n",
    "- AssessJob7: The opportunity to work from home/remotely\n",
    "- AssessJob8: Opportunities for professional development\n",
    "- AssessJob9: The diversity of the company or organization\n",
    "- AssessJob10: How widely used or impactful the product or service I'd be working on is"
   ]
  },
  {
   "cell_type": "code",
   "execution_count": null,
   "metadata": {},
   "outputs": [],
   "source": [
    "#Making a temp variable of the 10 columns above\n",
    "temp_dataframe = survey_2018[['AssessJob1','AssessJob2','AssessJob3','AssessJob4','AssessJob5','AssessJob6','AssessJob7','AssessJob8', 'AssessJob9', 'AssessJob10']]"
   ]
  },
  {
   "cell_type": "code",
   "execution_count": null,
   "metadata": {},
   "outputs": [],
   "source": [
    "#Printing out the first 5 rows of each column\n",
    "print(temp_dataframe.shape)\n",
    "print(temp_dataframe.head())"
   ]
  },
  {
   "cell_type": "code",
   "execution_count": null,
   "metadata": {},
   "outputs": [],
   "source": [
    "#Determining how much of a percentage of rows have NaN\n",
    "count_outliers(temp_dataframe)"
   ]
  },
  {
   "cell_type": "markdown",
   "metadata": {},
   "source": [
    "It is very interesting that every single column has the exact percentage of NaN. Let us look more into that to see what we can learn"
   ]
  },
  {
   "cell_type": "code",
   "execution_count": null,
   "metadata": {},
   "outputs": [],
   "source": [
    "#Get a preliminary view of what the rows look like that have Null for the Assess Job Columns\n",
    "survey_2018[survey_2018['AssessJob1'].isnull()]"
   ]
  },
  {
   "cell_type": "code",
   "execution_count": null,
   "metadata": {},
   "outputs": [],
   "source": [
    "#Get a feel for what the rows look like that have values for the AssessJob columns\n",
    "survey_2018[survey_2018['AssessJob1'].notnull()]"
   ]
  },
  {
   "cell_type": "code",
   "execution_count": null,
   "metadata": {},
   "outputs": [],
   "source": [
    "#At this point, I am only interested in people that reported results.  I will make a note of the NaN in the findings\n",
    "#report.  \n",
    "survey_2018 = survey_2018.dropna(subset=['AssessJob1'])"
   ]
  },
  {
   "cell_type": "code",
   "execution_count": null,
   "metadata": {},
   "outputs": [],
   "source": [
    "#Getting subset of overall dataset to only the Job Assessment columns for job seekers\n",
    "temp_dataframe = survey_2018[['AssessJob1','AssessJob2','AssessJob3','AssessJob4','AssessJob5','AssessJob6','AssessJob7','AssessJob8', 'AssessJob9', 'AssessJob10']]"
   ]
  },
  {
   "cell_type": "code",
   "execution_count": null,
   "metadata": {},
   "outputs": [],
   "source": [
    "#Performing a quick validation that we no longer see NaN\n",
    "print(temp_dataframe.head())"
   ]
  },
  {
   "cell_type": "code",
   "execution_count": null,
   "metadata": {},
   "outputs": [],
   "source": [
    "#Renaming the columns prior to submission to the visualization methods that will be listed below\n",
    "temp_dataframe = temp_dataframe.rename(columns={'AssessJob1': 'Type of Industry', 'AssessJob2': 'Financial Performance', 'AssessJob3': 'Department_Team', 'AssessJob4': 'Type of Technology', 'AssessJob5': 'Compensation', 'AssessJob6': 'Culture', 'AssessJob7': 'Remote Work', 'AssessJob8': 'Professional Development', 'AssessJob9': 'Diversity', 'AssessJob10': 'Use of Product'})"
   ]
  },
  {
   "cell_type": "code",
   "execution_count": null,
   "metadata": {},
   "outputs": [],
   "source": [
    "#Visualizing all of the Job Assessment columns to see what potential job seekers are looking for.\n",
    "#Ranking order is 1 (highest) to 10 (lowest)\n",
    "count = 1\n",
    "for y in ['Type of Industry', 'Financial Performance',  'Department_Team', 'Type of Technology', 'Compensation','Culture',  'Remote Work', 'Professional Development', 'Diversity', 'Use of Product']:\n",
    "    plt.figure(figsize=(20,6))\n",
    "    plt.title(y)\n",
    "    plt.xlabel('x')\n",
    "    plt.ylabel('y')\n",
    "    ax = sns.countplot(temp_dataframe[y])\n",
    "    plt.show()"
   ]
  }
 ],
 "metadata": {
  "kernelspec": {
   "display_name": "Python 3",
   "language": "python",
   "name": "python3"
  },
  "language_info": {
   "codemirror_mode": {
    "name": "ipython",
    "version": 3
   },
   "file_extension": ".py",
   "mimetype": "text/x-python",
   "name": "python",
   "nbconvert_exporter": "python",
   "pygments_lexer": "ipython3",
   "version": "3.7.0"
  }
 },
 "nbformat": 4,
 "nbformat_minor": 2
}
